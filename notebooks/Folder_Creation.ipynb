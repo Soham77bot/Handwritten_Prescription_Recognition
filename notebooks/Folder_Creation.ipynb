{
 "cells": [
  {
   "cell_type": "code",
   "execution_count": 4,
   "id": "2fc5cf77-f7d7-4b46-bad8-9802cf0e38af",
   "metadata": {},
   "outputs": [
    {
     "name": "stdout",
     "output_type": "stream",
     "text": [
      "Images organized successfully!\n"
     ]
    }
   ],
   "source": [
    "import os\n",
    "import pandas as pd\n",
    "import shutil\n",
    "import re\n",
    "\n",
    "csv_file = f'C:\\\\New Folder (2)\\\\Handwritting\\\\hasy-data-labels.csv'   \n",
    "df = pd.read_csv(csv_file)\n",
    "\n",
    "source_dir = r'C:\\New Folder (2)\\Handwritting\\hasy-data' \n",
    "\n",
    "target_dir = r'C:\\New Folder (2)\\Mini Project' \n",
    "\n",
    "if not os.path.exists(target_dir):\n",
    "    os.makedirs(target_dir)\n",
    "\n",
    "def sanitize_folder_name(name):\n",
    "    return re.sub(r'[<>:\"/\\\\|?*]', '', str(name))\n",
    "\n",
    "for index, row in df.iterrows():\n",
    "    image_path = row['path'] \n",
    "    label = row['latex']\n",
    "    clean_label = sanitize_folder_name(label)\n",
    "\n",
    "    label_dir = os.path.join(target_dir, clean_label)\n",
    "    if not os.path.exists(label_dir):\n",
    "        os.makedirs(label_dir)\n",
    "\n",
    "    src_image_path = os.path.join(source_dir, os.path.basename(image_path)) \n",
    "    dst_image_path = os.path.join(label_dir, os.path.basename(image_path))\n",
    "    shutil.copy(src_image_path, dst_image_path)\n",
    "\n",
    "print(\"Images organized successfully!\")\n"
   ]
  },
  {
   "cell_type": "code",
   "execution_count": null,
   "id": "1dccf33d-8a25-4b0d-9c67-a7b0c564d775",
   "metadata": {},
   "outputs": [],
   "source": []
  }
 ],
 "metadata": {
  "kernelspec": {
   "display_name": "Python 3 (ipykernel)",
   "language": "python",
   "name": "python3"
  },
  "language_info": {
   "codemirror_mode": {
    "name": "ipython",
    "version": 3
   },
   "file_extension": ".py",
   "mimetype": "text/x-python",
   "name": "python",
   "nbconvert_exporter": "python",
   "pygments_lexer": "ipython3",
   "version": "3.11.9"
  }
 },
 "nbformat": 4,
 "nbformat_minor": 5
}
